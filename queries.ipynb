{
 "cells": [
  {
   "cell_type": "code",
   "execution_count": 6,
   "metadata": {},
   "outputs": [
    {
     "name": "stdout",
     "output_type": "stream",
     "text": [
      "  group_code mean_age\n",
      "0      BG000     47.5\n",
      "1      BG001     49.4\n",
      "2      BG002     48.1\n"
     ]
    }
   ],
   "source": [
    "\n",
    "import pandas as pd\n",
    "import sqlite3\n",
    "from contextlib import closing\n",
    "import psycopg2\n",
    "\n",
    "def extract_aact():\n",
    "    connection = psycopg2.connect(\n",
    "        database=\"aact\",\n",
    "        user= \"achang\",\n",
    "        password=\"AChang2608\",\n",
    "        host=\"aact-db.ctti-clinicaltrials.org\",\n",
    "    )\n",
    "\n",
    "    with closing(connection.cursor()) as cursor:\n",
    "        \n",
    "        cursor.execute(\n",
    "            \"\"\"\n",
    "        SELECT ctgov_group_code, param_value\n",
    "        FROM baseline_measurements\n",
    "        WHERE title = 'Age, Continuous'\n",
    "        AND nct_id = 'NCT01945775';\n",
    "        \"\"\"\n",
    "            ),\n",
    "        patients = cursor.fetchall()\n",
    "\n",
    "    columns = [\n",
    "        'group_code',\n",
    "        'mean_age',\n",
    "    ]\n",
    "\n",
    "    df = pd.DataFrame(patients, columns=columns)\n",
    "\n",
    "    print(df)\n",
    "\n",
    "\n",
    "\n",
    "extract_aact()\n",
    "\n",
    "    "
   ]
  }
 ],
 "metadata": {
  "kernelspec": {
   "display_name": "base",
   "language": "python",
   "name": "python3"
  },
  "language_info": {
   "codemirror_mode": {
    "name": "ipython",
    "version": 3
   },
   "file_extension": ".py",
   "mimetype": "text/x-python",
   "name": "python",
   "nbconvert_exporter": "python",
   "pygments_lexer": "ipython3",
   "version": "3.11.5"
  }
 },
 "nbformat": 4,
 "nbformat_minor": 2
}
