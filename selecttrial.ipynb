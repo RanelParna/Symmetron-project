{
 "cells": [
  {
   "cell_type": "code",
   "execution_count": 15,
   "metadata": {},
   "outputs": [
    {
     "name": "stdout",
     "output_type": "stream",
     "text": [
      "['NCT00679783', 'NCT02898207', 'NCT02401347', 'NCT03167619', 'NCT01286987', 'NCT01989546', 'NCT02657889', 'NCT01945775', 'NCT01306032', 'NCT00494234']\n",
      "10\n"
     ]
    }
   ],
   "source": [
    "import requests\n",
    "import urllib.parse\n",
    "\n",
    "\n",
    "condition = \"breast cancer\"\n",
    "intervention = \"PARP inhibitor\"\n",
    "aggFilters = \"results:with,status:com,studyType:int\"\n",
    "pageSize = 100\n",
    "status = \"COMPLETED\"\n",
    "\n",
    "params = {\n",
    "    \"query.cond\": condition,\n",
    "    \"query.intr\": intervention,\n",
    "    \"filter.overallStatus\": status,\n",
    "    \"pageSize\": pageSize,\n",
    "    \"aggFilters\": aggFilters\n",
    "}\n",
    "\n",
    "querystring = urllib.parse.urlencode(params)\n",
    "\n",
    "url = f\"https://clinicaltrials.gov/api/v2/studies?{querystring}\"\n",
    "\n",
    "result = requests.get(url)\n",
    "\n",
    "data = result.json()\n",
    "\n",
    "interventional = filter(lambda x: x[\"protocolSection\"][\"designModule\"][\"studyType\"] == \"INTERVENTIONAL\", data[\"studies\"])\n",
    "nctIds = list(map(lambda x: x[\"protocolSection\"][\"identificationModule\"][\"nctId\"], interventional))\n",
    "\n",
    "print(nctIds)\n",
    "print(len(nctIds))"
   ]
  }
 ],
 "metadata": {
  "kernelspec": {
   "display_name": "Python 3",
   "language": "python",
   "name": "python3"
  },
  "language_info": {
   "codemirror_mode": {
    "name": "ipython",
    "version": 3
   },
   "file_extension": ".py",
   "mimetype": "text/x-python",
   "name": "python",
   "nbconvert_exporter": "python",
   "pygments_lexer": "ipython3",
   "version": "3.11.5"
  }
 },
 "nbformat": 4,
 "nbformat_minor": 2
}
